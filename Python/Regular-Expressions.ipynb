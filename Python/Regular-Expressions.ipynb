{
 "cells": [
  {
   "cell_type": "markdown",
   "metadata": {},
   "source": [
    "## Regular Expressions\n",
    "These code snippets have been borrowed from Udemy's Python and Django Full Stack Web Developer Course."
   ]
  },
  {
   "cell_type": "markdown",
   "metadata": {},
   "source": [
    "### search() and findall()"
   ]
  },
  {
   "cell_type": "code",
   "execution_count": 1,
   "metadata": {},
   "outputs": [],
   "source": [
    "import re"
   ]
  },
  {
   "cell_type": "markdown",
   "metadata": {},
   "source": [
    "`re.search(pattern, string)`  \n",
    "Args:  \n",
    "&nbsp;&nbsp;&nbsp;&nbsp;&nbsp; pass in the pattern you're looking for in a string  \n",
    "Returns:  \n",
    "&nbsp;&nbsp;&nbsp;&nbsp;&nbsp; regular expression match object which contains information about the match  "
   ]
  },
  {
   "cell_type": "code",
   "execution_count": 2,
   "metadata": {},
   "outputs": [
    {
     "name": "stdout",
     "output_type": "stream",
     "text": [
      "I'm searching for: term1\n",
      "MATCH!\n",
      "I'm searching for: term2\n",
      "NO MATCH!\n"
     ]
    }
   ],
   "source": [
    "patterns = ['term1', 'term2']\n",
    "\n",
    "text = \"This is a string with term1, not not the other\"\n",
    "\n",
    "for pattern in patterns:\n",
    "    print(\"I'm searching for: \"+pattern)\n",
    "    if re.search(pattern, text):\n",
    "        print('MATCH!')\n",
    "    else:\n",
    "        print('NO MATCH!')"
   ]
  },
  {
   "cell_type": "code",
   "execution_count": 3,
   "metadata": {},
   "outputs": [
    {
     "name": "stdout",
     "output_type": "stream",
     "text": [
      "<class '_sre.SRE_Match'>\n"
     ]
    }
   ],
   "source": [
    "match = re.search('term1', text)\n",
    "print(type(match))"
   ]
  },
  {
   "cell_type": "code",
   "execution_count": 4,
   "metadata": {},
   "outputs": [
    {
     "name": "stdout",
     "output_type": "stream",
     "text": [
      "22\n"
     ]
    }
   ],
   "source": [
    "print(match.start())"
   ]
  },
  {
   "cell_type": "markdown",
   "metadata": {},
   "source": [
    "`re.findall(pattern, string)`  \n",
    "Args:  \n",
    "&nbsp;&nbsp;&nbsp;&nbsp;&nbsp; pass in the pattern you're looking for in a string  \n",
    "Returns:  \n",
    "&nbsp;&nbsp;&nbsp;&nbsp;&nbsp; list which contains all instnces of the match"
   ]
  },
  {
   "cell_type": "code",
   "execution_count": 5,
   "metadata": {},
   "outputs": [
    {
     "name": "stdout",
     "output_type": "stream",
     "text": [
      "['match', 'match']\n"
     ]
    }
   ],
   "source": [
    "print(re.findall('match', 'test phrase match in match middle'))"
   ]
  },
  {
   "cell_type": "markdown",
   "metadata": {},
   "source": [
    "### Regex syntax"
   ]
  },
  {
   "cell_type": "markdown",
   "metadata": {},
   "source": [
    "C* : means 0 or more Cs  \n",
    "C+ : means 1 or more Cs  \n",
    "C? : either 0 or 1 time  \n",
    "C{n} : C occurs n times  "
   ]
  },
  {
   "cell_type": "code",
   "execution_count": 6,
   "metadata": {},
   "outputs": [],
   "source": [
    "def multi_re_find(patterns, phrase):\n",
    "    for pat in patterns:\n",
    "        print(\"Searching for pattern {}\".format(pat))\n",
    "        print(re.findall(pat,phrase))\n",
    "        print('\\n')"
   ]
  },
  {
   "cell_type": "code",
   "execution_count": 7,
   "metadata": {},
   "outputs": [],
   "source": [
    "test_phrase = 'sdsd..sssddd..sdddsddd...dsds...dsssssss..sddddd'\n",
    "test_pattern = ['sd*']"
   ]
  },
  {
   "cell_type": "code",
   "execution_count": 8,
   "metadata": {},
   "outputs": [
    {
     "name": "stdout",
     "output_type": "stream",
     "text": [
      "Searching for pattern sd*\n",
      "['sd', 'sd', 's', 's', 'sddd', 'sddd', 'sddd', 'sd', 's', 's', 's', 's', 's', 's', 's', 's', 'sddddd']\n",
      "\n",
      "\n"
     ]
    }
   ],
   "source": [
    "multi_re_find(test_pattern, test_phrase)"
   ]
  },
  {
   "cell_type": "code",
   "execution_count": 9,
   "metadata": {},
   "outputs": [
    {
     "name": "stdout",
     "output_type": "stream",
     "text": [
      "Searching for pattern sd+\n",
      "['sd', 'sd', 'sddd', 'sddd', 'sddd', 'sd', 'sddddd']\n",
      "\n",
      "\n"
     ]
    }
   ],
   "source": [
    "test_pattern = ['sd+']\n",
    "multi_re_find(test_pattern, test_phrase)"
   ]
  },
  {
   "cell_type": "code",
   "execution_count": 10,
   "metadata": {},
   "outputs": [
    {
     "name": "stdout",
     "output_type": "stream",
     "text": [
      "Searching for pattern sd?\n",
      "['sd', 'sd', 's', 's', 'sd', 'sd', 'sd', 'sd', 's', 's', 's', 's', 's', 's', 's', 's', 'sd']\n",
      "\n",
      "\n"
     ]
    }
   ],
   "source": [
    "test_pattern = ['sd?']\n",
    "multi_re_find(test_pattern, test_phrase)"
   ]
  },
  {
   "cell_type": "code",
   "execution_count": 11,
   "metadata": {},
   "outputs": [
    {
     "name": "stdout",
     "output_type": "stream",
     "text": [
      "Searching for pattern sd{1,3}\n",
      "['sd', 'sd', 'sddd', 'sddd', 'sddd', 'sd', 'sddd']\n",
      "\n",
      "\n"
     ]
    }
   ],
   "source": [
    "test_pattern = ['sd{1,3}']\n",
    "multi_re_find(test_pattern, test_phrase)"
   ]
  },
  {
   "cell_type": "code",
   "execution_count": 12,
   "metadata": {},
   "outputs": [
    {
     "name": "stdout",
     "output_type": "stream",
     "text": [
      "Searching for pattern s[sd]+\n",
      "['sdsd', 'sssddd', 'sdddsddd', 'sds', 'sssssss', 'sddddd']\n",
      "\n",
      "\n"
     ]
    }
   ],
   "source": [
    "test_pattern = ['s[sd]+']\n",
    "multi_re_find(test_pattern, test_phrase)"
   ]
  },
  {
   "cell_type": "markdown",
   "metadata": {},
   "source": [
    "`^` is used to exclude symbols"
   ]
  },
  {
   "cell_type": "code",
   "execution_count": 13,
   "metadata": {},
   "outputs": [
    {
     "name": "stdout",
     "output_type": "stream",
     "text": [
      "Searching for pattern [^!.?]+\n",
      "['This is a string', ' But it has punctuation', ' How can we remove it']\n",
      "\n",
      "\n"
     ]
    }
   ],
   "source": [
    "test_phrase = 'This is a string! But it has punctuation. How can we remove it?'\n",
    "\n",
    "test_pattern = ['[^!.?]+']\n",
    "multi_re_find(test_pattern, test_phrase)"
   ]
  },
  {
   "cell_type": "markdown",
   "metadata": {},
   "source": [
    "[a-z] for all lowercase characters."
   ]
  },
  {
   "cell_type": "code",
   "execution_count": 14,
   "metadata": {},
   "outputs": [
    {
     "name": "stdout",
     "output_type": "stream",
     "text": [
      "Searching for pattern [a-z]+\n",
      "['his', 'is', 'a', 'string', 'ut', 'it', 'has', 'punctuation', 'ow', 'can', 'we', 'remove', 'it']\n",
      "\n",
      "\n"
     ]
    }
   ],
   "source": [
    "test_pattern = ['[a-z]+']\n",
    "multi_re_find(test_pattern, test_phrase)"
   ]
  },
  {
   "cell_type": "code",
   "execution_count": 15,
   "metadata": {},
   "outputs": [
    {
     "name": "stdout",
     "output_type": "stream",
     "text": [
      "Searching for pattern [A-Z]+\n",
      "['T', 'B', 'H']\n",
      "\n",
      "\n"
     ]
    }
   ],
   "source": [
    "test_pattern = ['[A-Z]+']\n",
    "multi_re_find(test_pattern, test_phrase)"
   ]
  },
  {
   "cell_type": "markdown",
   "metadata": {},
   "source": [
    "[r'\\d+'] searches for digits."
   ]
  },
  {
   "cell_type": "code",
   "execution_count": 16,
   "metadata": {},
   "outputs": [
    {
     "name": "stdout",
     "output_type": "stream",
     "text": [
      "Searching for pattern \\d+\n",
      "['12321']\n",
      "\n",
      "\n"
     ]
    }
   ],
   "source": [
    "test_phrase = 'This is a string with numbers 12321 and a symbol #hashtag'\n",
    "\n",
    "test_pattern = [r'\\d+']\n",
    "multi_re_find(test_pattern, test_phrase)"
   ]
  },
  {
   "cell_type": "markdown",
   "metadata": {},
   "source": [
    "[r'\\D+'] searches for non-digits."
   ]
  },
  {
   "cell_type": "code",
   "execution_count": 17,
   "metadata": {},
   "outputs": [
    {
     "name": "stdout",
     "output_type": "stream",
     "text": [
      "Searching for pattern \\D+\n",
      "['This is a string with numbers ', ' and a symbol #hashtag']\n",
      "\n",
      "\n"
     ]
    }
   ],
   "source": [
    "test_pattern = [r'\\D+']\n",
    "multi_re_find(test_pattern, test_phrase)"
   ]
  },
  {
   "cell_type": "markdown",
   "metadata": {},
   "source": [
    "[r'\\s+'] searches for whitespaces"
   ]
  },
  {
   "cell_type": "code",
   "execution_count": 18,
   "metadata": {},
   "outputs": [
    {
     "name": "stdout",
     "output_type": "stream",
     "text": [
      "Searching for pattern \\s+\n",
      "[' ', ' ', ' ', ' ', ' ', ' ', ' ', ' ', ' ', ' ']\n",
      "\n",
      "\n"
     ]
    }
   ],
   "source": [
    "test_pattern = [r'\\s+']\n",
    "multi_re_find(test_pattern, test_phrase)"
   ]
  },
  {
   "cell_type": "markdown",
   "metadata": {},
   "source": [
    "[r'\\S+'] searches for non-whitespaces"
   ]
  },
  {
   "cell_type": "code",
   "execution_count": 19,
   "metadata": {},
   "outputs": [
    {
     "name": "stdout",
     "output_type": "stream",
     "text": [
      "Searching for pattern \\S+\n",
      "['This', 'is', 'a', 'string', 'with', 'numbers', '12321', 'and', 'a', 'symbol', '#hashtag']\n",
      "\n",
      "\n"
     ]
    }
   ],
   "source": [
    "test_pattern = [r'\\S+']\n",
    "multi_re_find(test_pattern, test_phrase)"
   ]
  },
  {
   "cell_type": "markdown",
   "metadata": {},
   "source": [
    "[r'\\w+'] searches for all alpha-numeric characters."
   ]
  },
  {
   "cell_type": "code",
   "execution_count": 20,
   "metadata": {},
   "outputs": [
    {
     "name": "stdout",
     "output_type": "stream",
     "text": [
      "Searching for pattern \\w+\n",
      "['This', 'is', 'a', 'string', 'with', 'numbers', '12321', 'and', 'a', 'symbol', 'hashtag']\n",
      "\n",
      "\n"
     ]
    }
   ],
   "source": [
    "test_pattern = [r'\\w+']\n",
    "multi_re_find(test_pattern, test_phrase)"
   ]
  },
  {
   "cell_type": "markdown",
   "metadata": {},
   "source": [
    "[r'\\W+'] searches for all non alpha-numeric characters."
   ]
  },
  {
   "cell_type": "code",
   "execution_count": 21,
   "metadata": {},
   "outputs": [
    {
     "name": "stdout",
     "output_type": "stream",
     "text": [
      "Searching for pattern \\W+\n",
      "[' ', ' ', ' ', ' ', ' ', ' ', ' ', ' ', ' ', ' #']\n",
      "\n",
      "\n"
     ]
    }
   ],
   "source": [
    "test_pattern = [r'\\W+']\n",
    "multi_re_find(test_pattern, test_phrase)"
   ]
  },
  {
   "cell_type": "code",
   "execution_count": null,
   "metadata": {},
   "outputs": [],
   "source": []
  }
 ],
 "metadata": {
  "kernelspec": {
   "display_name": "Python 3",
   "language": "python",
   "name": "python3"
  },
  "language_info": {
   "codemirror_mode": {
    "name": "ipython",
    "version": 3
   },
   "file_extension": ".py",
   "mimetype": "text/x-python",
   "name": "python",
   "nbconvert_exporter": "python",
   "pygments_lexer": "ipython3",
   "version": "3.5.4"
  },
  "widgets": {
   "state": {},
   "version": "1.1.2"
  }
 },
 "nbformat": 4,
 "nbformat_minor": 2
}
