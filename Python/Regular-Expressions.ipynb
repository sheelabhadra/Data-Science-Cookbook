{
 "cells": [
  {
   "cell_type": "markdown",
   "metadata": {},
   "source": [
    "## Regular Expressions\n",
    "These code snippets have been borrowed from Udemy's Python and Django Full Stack Web Developer Course."
   ]
  },
  {
   "cell_type": "markdown",
   "metadata": {},
   "source": [
    "### search() and findall()"
   ]
  },
  {
   "cell_type": "code",
   "execution_count": 1,
   "metadata": {},
   "outputs": [],
   "source": [
    "import re"
   ]
  },
  {
   "cell_type": "markdown",
   "metadata": {},
   "source": [
    "`re.search(pattern, string)`  \n",
    "Args:  \n",
    "&nbsp;&nbsp;&nbsp;&nbsp;&nbsp; pass in the pattern you're looking for in a string  \n",
    "Returns:  \n",
    "&nbsp;&nbsp;&nbsp;&nbsp;&nbsp; regular expression match object which contains information about the match  "
   ]
  },
  {
   "cell_type": "code",
   "execution_count": 5,
   "metadata": {},
   "outputs": [
    {
     "name": "stdout",
     "output_type": "stream",
     "text": [
      "I'm searching for: term1\n",
      "MATCH!\n",
      "I'm searching for: term2\n",
      "NO MATCH!\n"
     ]
    }
   ],
   "source": [
    "patterns = ['term1', 'term2']\n",
    "\n",
    "text = \"This is a string with term1, not not the other\"\n",
    "\n",
    "for pattern in patterns:\n",
    "    print(\"I'm searching for: \"+pattern)\n",
    "    if re.search(pattern, text):\n",
    "        print('MATCH!')\n",
    "    else:\n",
    "        print('NO MATCH!')"
   ]
  },
  {
   "cell_type": "code",
   "execution_count": 6,
   "metadata": {},
   "outputs": [
    {
     "name": "stdout",
     "output_type": "stream",
     "text": [
      "<class '_sre.SRE_Match'>\n"
     ]
    }
   ],
   "source": [
    "match = re.search('term1', text)\n",
    "print(type(match))"
   ]
  },
  {
   "cell_type": "code",
   "execution_count": 11,
   "metadata": {},
   "outputs": [
    {
     "name": "stdout",
     "output_type": "stream",
     "text": [
      "22\n"
     ]
    }
   ],
   "source": [
    "print(match.start())"
   ]
  },
  {
   "cell_type": "markdown",
   "metadata": {},
   "source": [
    "`re.findall(pattern, string)`  \n",
    "Args:  \n",
    "&nbsp;&nbsp;&nbsp;&nbsp;&nbsp; pass in the pattern you're looking for in a string  \n",
    "Returns:  \n",
    "&nbsp;&nbsp;&nbsp;&nbsp;&nbsp; list which contains all instnces of the match"
   ]
  },
  {
   "cell_type": "code",
   "execution_count": 16,
   "metadata": {},
   "outputs": [
    {
     "name": "stdout",
     "output_type": "stream",
     "text": [
      "['match', 'match']\n"
     ]
    }
   ],
   "source": [
    "print(re.findall('match', 'test phrase match in match middle'))"
   ]
  },
  {
   "cell_type": "markdown",
   "metadata": {},
   "source": [
    "### Regex syntax"
   ]
  },
  {
   "cell_type": "markdown",
   "metadata": {},
   "source": [
    "C* : means 0 or more Cs  \n",
    "C+ : means 1 or more Cs  \n",
    "C? : either 0 or 1 time  \n",
    "C{n} : C occurs n times  "
   ]
  },
  {
   "cell_type": "code",
   "execution_count": 20,
   "metadata": {},
   "outputs": [],
   "source": [
    "def multi_re_find(patterns, phrase):\n",
    "    for pat in patterns:\n",
    "        print(\"Searching for pattern {}\".format(pat))\n",
    "        print(re.findall(pat,phrase))\n",
    "        print('\\n')"
   ]
  },
  {
   "cell_type": "code",
   "execution_count": 21,
   "metadata": {},
   "outputs": [],
   "source": [
    "test_phrase = 'sdsd..sssddd..sdddsddd...dsds...dsssssss..sddddd'\n",
    "test_pattern = ['sd*']"
   ]
  },
  {
   "cell_type": "code",
   "execution_count": 22,
   "metadata": {},
   "outputs": [
    {
     "name": "stdout",
     "output_type": "stream",
     "text": [
      "Searching for pattern sd*\n",
      "['sd', 'sd', 's', 's', 'sddd', 'sddd', 'sddd', 'sd', 's', 's', 's', 's', 's', 's', 's', 's', 'sddddd']\n",
      "\n",
      "\n"
     ]
    }
   ],
   "source": [
    "multi_re_find(test_pattern, test_phrase)"
   ]
  },
  {
   "cell_type": "code",
   "execution_count": 23,
   "metadata": {},
   "outputs": [
    {
     "name": "stdout",
     "output_type": "stream",
     "text": [
      "Searching for pattern sd+\n",
      "['sd', 'sd', 'sddd', 'sddd', 'sddd', 'sd', 'sddddd']\n",
      "\n",
      "\n"
     ]
    }
   ],
   "source": [
    "test_pattern = ['sd+']\n",
    "multi_re_find(test_pattern, test_phrase)"
   ]
  },
  {
   "cell_type": "code",
   "execution_count": 24,
   "metadata": {},
   "outputs": [
    {
     "name": "stdout",
     "output_type": "stream",
     "text": [
      "Searching for pattern sd?\n",
      "['sd', 'sd', 's', 's', 'sd', 'sd', 'sd', 'sd', 's', 's', 's', 's', 's', 's', 's', 's', 'sd']\n",
      "\n",
      "\n"
     ]
    }
   ],
   "source": [
    "test_pattern = ['sd?']\n",
    "multi_re_find(test_pattern, test_phrase)"
   ]
  },
  {
   "cell_type": "code",
   "execution_count": null,
   "metadata": {},
   "outputs": [],
   "source": []
  }
 ],
 "metadata": {
  "kernelspec": {
   "display_name": "Python 3",
   "language": "python",
   "name": "python3"
  },
  "language_info": {
   "codemirror_mode": {
    "name": "ipython",
    "version": 3
   },
   "file_extension": ".py",
   "mimetype": "text/x-python",
   "name": "python",
   "nbconvert_exporter": "python",
   "pygments_lexer": "ipython3",
   "version": "3.5.4"
  },
  "widgets": {
   "state": {},
   "version": "1.1.2"
  }
 },
 "nbformat": 4,
 "nbformat_minor": 2
}
