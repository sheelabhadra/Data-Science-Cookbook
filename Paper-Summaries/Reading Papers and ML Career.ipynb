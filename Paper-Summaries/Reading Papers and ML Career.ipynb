{
 "cells": [
  {
   "cell_type": "markdown",
   "metadata": {},
   "source": [
    "# How to efficiently read papers\n",
    "## Multiple Passes\n",
    "1. Title + abstract + figures\n",
    "2. Intro + conclusions + figures + skim rest (skip related work)\n",
    "3. Read but skip/skim math\n",
    "4. Read the whole thing, but skip parts that don't make sense\n",
    "\n",
    "## Questions to answer\n",
    "- What did the authors try to accomplish?\n",
    "- What were the key elements of the approach?\n",
    "- What can you use yourself?\n",
    "- What other references do you want to follow?\n",
    "\n",
    "## Sources of papers\n",
    "- Twitter\n",
    "- ML subreddit\n",
    "- NeurIPS, ICML, ICLR\n",
    "- Friends\n",
    "\n",
    "## Math\n",
    "- Rederive from scratch\n",
    "\n",
    "## Code\n",
    "- Run open-source code\n",
    "- Reimplement from scratch"
   ]
  },
  {
   "cell_type": "markdown",
   "metadata": {},
   "source": [
    "# Building a career in ML\n",
    "\n",
    "## Breadth vs Depth\n",
    "- Gain knowledge of various domains such as ML, DL, CV, RL, NLP etc. through coursework and reading papers\n",
    "- Gain expertise in 1-2 domains by doing challenging and meaningful projects\n",
    "\n",
    "## Saturday morning problem\n",
    "Developing a habit and consistency for long-term reward.\n",
    "- Read paper\n",
    "- Work on research\n",
    "- Work on open-source projects\n",
    "- Watch a TV show\n",
    "\n",
    "## Selecting a job\n",
    "- Work with great people/projects\n",
    "    - Focus on the team you'll interact with\n",
    "    - Manager\n",
    "    - Not on \"brand\""
   ]
  },
  {
   "cell_type": "code",
   "execution_count": null,
   "metadata": {},
   "outputs": [],
   "source": []
  }
 ],
 "metadata": {
  "kernelspec": {
   "display_name": "Python 3",
   "language": "python",
   "name": "python3"
  },
  "language_info": {
   "codemirror_mode": {
    "name": "ipython",
    "version": 3
   },
   "file_extension": ".py",
   "mimetype": "text/x-python",
   "name": "python",
   "nbconvert_exporter": "python",
   "pygments_lexer": "ipython3",
   "version": "3.7.2"
  }
 },
 "nbformat": 4,
 "nbformat_minor": 2
}
