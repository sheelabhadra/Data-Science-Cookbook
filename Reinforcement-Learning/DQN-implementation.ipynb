{
 "cells": [
  {
   "cell_type": "markdown",
   "metadata": {},
   "source": [
    "- Initialize your $Q$-network parameters\n",
    "- Loop over episodes:\n",
    "    - Start from initial state $s$\n",
    "    - Loop over time-steps:\n",
    "        - Forward propagate $s$ in the $Q$-network\n",
    "        - Execute action $a$ (that has the maximum $Q(s,a)$ output of $Q$-network)\n",
    "        - Observe reward $r$ and the next state $s^{'}$\n",
    "        - Compute targets $y$ by forward propagating state $s^{'}$ in the $Q$-network, then compute loss\n",
    "        - Update parameters with gradient descent"
   ]
  },
  {
   "cell_type": "code",
   "execution_count": null,
   "metadata": {},
   "outputs": [],
   "source": []
  }
 ],
 "metadata": {
  "kernelspec": {
   "display_name": "Python 3",
   "language": "python",
   "name": "python3"
  },
  "language_info": {
   "codemirror_mode": {
    "name": "ipython",
    "version": 3
   },
   "file_extension": ".py",
   "mimetype": "text/x-python",
   "name": "python",
   "nbconvert_exporter": "python",
   "pygments_lexer": "ipython3",
   "version": "3.7.2"
  }
 },
 "nbformat": 4,
 "nbformat_minor": 2
}
